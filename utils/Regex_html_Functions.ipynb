{
 "cells": [
  {
   "cell_type": "markdown",
   "metadata": {},
   "source": [
    "# A file containing all my Regex functions"
   ]
  },
  {
   "cell_type": "code",
   "execution_count": 1,
   "metadata": {},
   "outputs": [],
   "source": [
    "# function to remove duplicates in string\n",
    "def remove_duplicates(s):\n",
    "    '''Function to remove duplicate strings in a list'''\n",
    "    if s:\n",
    "        return ','.join(sorted(set(s.split(','))))\n",
    "    else:\n",
    "        return ''"
   ]
  },
  {
   "cell_type": "code",
   "execution_count": 2,
   "metadata": {},
   "outputs": [],
   "source": [
    "# function to remove duplicates in string\n",
    "def clean_attachment_types(s):\n",
    "    '''Function to remove strings with certain suffixes from a list'''\n",
    "    suffixes = ['.png','.jpg','.jpeg','.css']\n",
    "    if not isinstance(s, list):\n",
    "        s = [s]\n",
    "    result = []\n",
    "    for item in s:\n",
    "        if not any(suffix in item for suffix in suffixes):\n",
    "            result.append(item)\n",
    "    return result if len(result) > 1 else result[0] if result else None"
   ]
  },
  {
   "cell_type": "code",
   "execution_count": 3,
   "metadata": {},
   "outputs": [],
   "source": [
    "from bs4 import BeautifulSoup, Comment\n",
    "import pandas as pd\n",
    "\n",
    "def text_from_html(body) -> str:\n",
    "    if pd.isnull(body):\n",
    "        return \"\"\n",
    "\n",
    "    def tag_visible(element):\n",
    "        if element.parent.name in [\"style\", \"script\", \"head\", \"title\", \"meta\", \"[document]\"]:\n",
    "            return False\n",
    "        if isinstance(element, Comment):\n",
    "            return False\n",
    "        return True\n",
    "\n",
    "    soup = BeautifulSoup(body, \"html.parser\")\n",
    "    texts = soup.findAll(string=True)\n",
    "    visible_texts = filter(tag_visible, texts)\n",
    "    return \" \".join(t.strip() for t in visible_texts)\n",
    "\n",
    "# import html2text\n",
    "# html2text.html2text(text)"
   ]
  },
  {
   "cell_type": "code",
   "execution_count": 4,
   "metadata": {},
   "outputs": [],
   "source": [
    "import re \n",
    "import string\n",
    "\n",
    "def clean_text_re_links_brackets(text):\n",
    "    '''Clean text in following ways:\n",
    "    - remove text in square brackets [] and within {}\n",
    "    - remove all https links <>\n",
    "    - remove line breaks ('\\n')\n",
    "    - remove \"-----Original Message-----\"\n",
    "    '''\n",
    "    \n",
    "    text = re.sub('\\[.*?\\]', '', text) # clean text from within square brackets \n",
    "    text = re.sub('\\<.*?\\>', '', text) # clean text from inside hyperlinks\n",
    "    text = re.sub('\\{.*?\\}', '', text) # clean text from inside curly brackets\n",
    "    text = text.replace('\\n',' ') #re.sub('\\{\\n}', '', text)   # clean text from line breaks\n",
    "    #text = re.sub('-----Original Message-----','',text) # not sure if doing this helps\n",
    "    \n",
    "    return text"
   ]
  },
  {
   "cell_type": "code",
   "execution_count": 5,
   "metadata": {},
   "outputs": [],
   "source": [
    "# log if email contains sort code and store it if so\n",
    "def find_sort_code_in_email(text):\n",
    "    '''Find whether email contains a sort code with simple RegEx function:\n",
    "    - extract sort code numbers (only if it matches format of dd-dd-dd)\n",
    "    '''\n",
    "    # the \\b stands for word boundary. this r\n",
    "    #srt_account_string = re.compile(r'\\b\\d{2}-?\\d{2}-?\\d{2}\\b') # this will accept both with and without dashes\n",
    "    match_string = re.compile(r'\\b\\d{2}-\\d{2}-\\d{2}\\b') # this will hardcode in the dashes\n",
    "    match = match_string.search(text)\n",
    "    if match:\n",
    "        return True, f'\"{match.group()}\"'\n",
    "    else:\n",
    "        return False, None\n",
    "    \n",
    "    # if only want to return a single True/False output:\n",
    "#     return bool(srt_account_string.search(text))"
   ]
  },
  {
   "cell_type": "code",
   "execution_count": 1,
   "metadata": {},
   "outputs": [],
   "source": [
    "# write function to find if the text mentions bank account or bank details\n",
    "# added in whitespace between bank account and bank details\n",
    "def find_bank_mention_in_email(text):\n",
    "    '''Find whether email contains certain words which might relate to bank-detail-change emails with simple RegEx function:\n",
    "    - mentions bank account or bank details\n",
    "    '''\n",
    "    if text is None:\n",
    "        return False\n",
    "    # the \\b stands for word boundary. this r\n",
    "#     srt_account_string = re.compile(r'bank account|bank details', re.IGNORECASE)\n",
    "    match_string = re.compile(r'\\b(bank|banks|banking)\\b', re.IGNORECASE)\n",
    "    match = match_string.search(text)\n",
    "    if match:\n",
    "        return True #, match.group()\n",
    "    else:\n",
    "        return False"
   ]
  },
  {
   "cell_type": "code",
   "execution_count": 2,
   "metadata": {},
   "outputs": [],
   "source": [
    "# write function to find if the text mentions bank account or bank details\n",
    "# added in whitespace between bank account and bank details\n",
    "def find_bank_account_mention_in_email(text):\n",
    "    '''Find whether email contains certain words which might relate to bank-detail-change emails with simple RegEx function:\n",
    "    - mentions bank account or bank details\n",
    "    '''\n",
    "    if text is None:\n",
    "        return False\n",
    "    # the \\b stands for word boundary. this r\n",
    "#     srt_account_string = re.compile(r'bank account|bank details', re.IGNORECASE)\n",
    "    match_string = re.compile(r'\\b(?:bank(?:ing)?\\saccount|financial\\sadministration|(?:bank(?:ing)?|financial)\\s(?:detail|information)s?)\\b', re.IGNORECASE)\n",
    "#     match_string = re.compile(r'\\b(bank\\saccount|bank\\sdetails|financial\\sadministration|financial\\sdetails)\\b', re.IGNORECASE)\n",
    "    match = match_string.search(text)\n",
    "    if match:\n",
    "        return True #, match.group()\n",
    "    else:\n",
    "        return False"
   ]
  },
  {
   "cell_type": "code",
   "execution_count": 3,
   "metadata": {},
   "outputs": [],
   "source": [
    "# write function to find if the text mentions change or new or updated\n",
    "def find_update_words_in_email(text):\n",
    "    '''Find whether email contains certain words which might relate to bank-detail-change emails with simple RegEx function:\n",
    "    - mentions change, new or updated\n",
    "    '''\n",
    "    if text is None:\n",
    "        return False\n",
    "    # the \\b stands for word boundary. this r\n",
    "    match_string = re.compile(r'change|new|update', re.IGNORECASE)\n",
    "    match = match_string.search(text)\n",
    "    if match:\n",
    "        return True #, match.group()\n",
    "    else:\n",
    "        return False"
   ]
  },
  {
   "cell_type": "code",
   "execution_count": 8,
   "metadata": {},
   "outputs": [],
   "source": [
    "# write function to find if the text mentions bank account or bank details\n",
    "def find_bank_vocabulary_mention_in_email(text):\n",
    "    '''Find whether email contains certain words which might relate to bank-detail-change emails with simple RegEx function:\n",
    "    - mentions sort-code, IBAN or swift\n",
    "    '''\n",
    "    # the \\b stands for word boundary. this r\n",
    "    match_string = re.compile(r'sort\\scode|IBAN|swift|account\\snumber|account\\scode', re.IGNORECASE)\n",
    "    match = match_string.search(text)\n",
    "    if match:\n",
    "        return True #, match.group()\n",
    "    else:\n",
    "        return False"
   ]
  },
  {
   "cell_type": "code",
   "execution_count": 9,
   "metadata": {},
   "outputs": [],
   "source": [
    "def check_array_lengths_add_Nones(arrays):\n",
    "    # Get the length of the first array\n",
    "    the_len = max(len(l) for l in arrays)\n",
    "    \n",
    "    # Check if all arrays have the same length\n",
    "    if not all(len(l) == the_len for l in arrays):\n",
    "        # Loop through the arrays\n",
    "        for i in range(len(arrays)):\n",
    "            # If the array is shorter than the others, append 'None' until it has the same length\n",
    "            while len(arrays[i]) < the_len:\n",
    "                arrays[i].append(None)\n",
    "    \n",
    "    # Return the modified arrays list\n",
    "    return arrays"
   ]
  },
  {
   "cell_type": "code",
   "execution_count": 10,
   "metadata": {},
   "outputs": [],
   "source": [
    "def check_dict_value_lengths(dct):\n",
    "    # Get the length of the first value\n",
    "    the_len = len(next(iter(dct.values())))\n",
    "    \n",
    "    # Check if all values have the same length\n",
    "    if not all(len(val) == the_len for val in dct.values()):\n",
    "        # Loop through the values\n",
    "        for key, val in dct.items():\n",
    "            # If the value is shorter than the others, print its name\n",
    "            if len(val) < the_len:\n",
    "                print(f\"{key} has a shorter length than the others.\")"
   ]
  },
  {
   "cell_type": "code",
   "execution_count": 11,
   "metadata": {},
   "outputs": [],
   "source": [
    "# def extract_text_between_start_end(start_str, end_str, text):\n",
    "#     '''Function to take in text, extract the text between the start and \n",
    "#     end substring, and then return the text with the inbetween text removed.'''\n",
    "\n",
    "#     start_index = text.find(start_str) + len(start_str)\n",
    "#     end_index = text.find(end_str)\n",
    "#     between_text = text[start_index:end_index]\n",
    "    \n",
    "#     no_space_new_text = start_str.replace(\" \",\"\")\n",
    "#     new_text = text.replace(start_str,'').replace(no_space_new_text,'')\n",
    "#     new_text = text.replace(between_text,'')\n",
    "# #     new_text = re.sub(between_text,'',text)\n",
    "    \n",
    "#     return between_text, new_text"
   ]
  },
  {
   "cell_type": "code",
   "execution_count": 12,
   "metadata": {},
   "outputs": [],
   "source": [
    "def extract_text_between_start_end(start_str, end_str_1, end_str_2, text):\n",
    "    '''Function to take in text, extract the text between the start substring and two possible end substrings,\n",
    "    and then return the text with the in-between text removed.'''\n",
    "\n",
    "    start_index = text.find(start_str) + len(start_str)\n",
    "    end_index_1 = text.find(end_str_1)\n",
    "    if end_str_2 is None:\n",
    "        end_index_2 = -1\n",
    "    else:\n",
    "        end_index_2 = text.find(end_str_2)\n",
    "\n",
    "    if end_index_1 == -1 and end_index_2 == -1:\n",
    "        return \"\", text\n",
    "    \n",
    "    elif end_index_1 == -1:\n",
    "        between_text = text[start_index:end_index_2]\n",
    "        \n",
    "    elif end_index_2 == -1:\n",
    "        between_text = text[start_index:end_index_1]\n",
    "        \n",
    "    else:\n",
    "        end_index = min(end_index_1, end_index_2)\n",
    "        between_text = text[start_index:end_index]\n",
    "            \n",
    "    no_space_new_text = start_str.replace(\" \",\"\")\n",
    "    new_text = text.replace(start_str,'').replace(no_space_new_text,'')\n",
    "    new_text = text.replace(between_text,'')\n",
    "    return between_text, new_text"
   ]
  },
  {
   "cell_type": "code",
   "execution_count": 13,
   "metadata": {},
   "outputs": [],
   "source": [
    "# write function to find if the text mentions bank account or bank details\n",
    "def find_statement_mention_in_email(text):\n",
    "    '''Find whether email mentions statement\n",
    "    '''\n",
    "    match_string = re.compile(r'\\bstatement\\b', re.IGNORECASE)\n",
    "    match = match_string.search(text)\n",
    "    if match:\n",
    "        return True #, match.group()\n",
    "    else:\n",
    "        return False"
   ]
  },
  {
   "cell_type": "code",
   "execution_count": 14,
   "metadata": {},
   "outputs": [],
   "source": [
    "# write function to find if the text mentions bank account or bank details\n",
    "def find_invoice_mention_in_email(text):\n",
    "    '''Find whether email mentions invoice\n",
    "    '''\n",
    "    match_string = re.compile(r'\\binvoice\\b', re.IGNORECASE)\n",
    "    match = match_string.search(text)\n",
    "    if match:\n",
    "        return True #, match.group()\n",
    "    else:\n",
    "        return False"
   ]
  },
  {
   "cell_type": "code",
   "execution_count": 15,
   "metadata": {},
   "outputs": [],
   "source": [
    "# write function to find if the text mentions cybercrime or fraud warnings or alerts\n",
    "def find_cybercrime_fraud_mention_in_email(text):\n",
    "    '''Find whether email refers to fraud or cybercrime warnings or alerts\n",
    "    '''\n",
    "    match_string = re.compile(r'\\b(fraud|cybercrime)\\b', re.IGNORECASE)\n",
    "    match = match_string.search(text)\n",
    "    if match:\n",
    "        return True #, match.group()\n",
    "    else:\n",
    "        return False"
   ]
  },
  {
   "cell_type": "code",
   "execution_count": 16,
   "metadata": {},
   "outputs": [],
   "source": [
    "# write function to find if the text mentions bank account or bank details\n",
    "def find_attention_external_mention_in_email(text):\n",
    "    '''Find whether email has an \"Attention:\" flag in body\n",
    "    '''\n",
    "#     match_string = re.compile(r'\\b(Attention:|external\\ssender)\\b', re.IGNORECASE)\n",
    "    match_string = re.compile(r'Attention:|external\\ssender', re.IGNORECASE)\n",
    "    match = match_string.search(text)\n",
    "    if match:\n",
    "        return True #, match.group()\n",
    "    else:\n",
    "        return False"
   ]
  },
  {
   "cell_type": "code",
   "execution_count": 17,
   "metadata": {},
   "outputs": [],
   "source": [
    "# write function to find if the text mentions bank account or bank details\n",
    "def find_alert_attach_mention_in_email(text):\n",
    "    '''Find whether email has an \"Alert:\" + \"opening\" + \"attachments\" flag in body\n",
    "    '''\n",
    "    match_string = re.compile(r'\\bAlert:.*?\\bopening\\b.*?\\battachments\\b', re.IGNORECASE)\n",
    "    match = match_string.search(text)\n",
    "    if match:\n",
    "        return True #, match.group()\n",
    "    else:\n",
    "        return False"
   ]
  },
  {
   "cell_type": "code",
   "execution_count": 18,
   "metadata": {},
   "outputs": [],
   "source": [
    "# extract domain from email address\n",
    "def extract_domain_from_address(text):\n",
    "    '''Extract domain from email address\n",
    "    '''\n",
    "    if text:\n",
    "        match = text.split('@')\n",
    "        if match:\n",
    "            return match[1]\n",
    "        else:\n",
    "            return None\n",
    "    else:\n",
    "        return None"
   ]
  },
  {
   "cell_type": "code",
   "execution_count": 1,
   "metadata": {},
   "outputs": [],
   "source": [
    "def clean_websites(text):\n",
    "    '''Clean text in following ways:\n",
    "    - remove all https or www links <>\n",
    "    - remove emails\n",
    "    - remove phone numbers\n",
    "    '''\n",
    "    \n",
    "#     url_pattern = r'(https?:\\/\\/\\S+?\\.(com|co\\.uk|org|co|uk))|(www\\.\\S+?\\.(com|co\\.uk|org|co|uk))'\n",
    "    url_pattern = r'(?:https?://|www\\.)\\S*' #r'(?:https?://|www\\.)\\S+?'\n",
    "    email_pattern = r'\\b\\w+@\\w+\\.\\w+\\b'\n",
    "    tel_pattern = r'(?:Tel|T|M|D):[\\s\\d\\-\\+\\(\\)]*'\n",
    "    phone_pattern = r'(?:\\+|00)?(?:\\d{1,3}[\\s-]?)?(?:\\(\\d{1,5}\\)|\\d{1,5})[\\s-]?\\d{3,4}[\\s-]?\\d{3,4}'\n",
    "#     phone_pattern = r'(?:(?:\\+|00)\\d{1,3}[\\s-]?\\d{1,4}[\\s-]?)?\\(?0?\\d{1,5}\\)?[\\s-]?\\d{3,4}[\\s-]?\\d{3,4}'  # Matches phone numbers in various formats\n",
    "    \n",
    "    text = re.sub(url_pattern, '', text) # clean websites and replace \n",
    "    text = re.sub(email_pattern, '', text)\n",
    "    text = re.sub(tel_pattern, '', text)\n",
    "    text = re.sub(phone_pattern, '', text)\n",
    "\n",
    "    return text"
   ]
  },
  {
   "cell_type": "code",
   "execution_count": 22,
   "metadata": {},
   "outputs": [],
   "source": [
    "# clean greetings, endings etc from emails\n",
    "def clean_fluff(text):\n",
    "    '''Clean text in following ways:\n",
    "    - remove greetings & endings\n",
    "    '''\n",
    "    \n",
    "    greetings_pattern = r\"^\\s*(?:hi|hello|hey|dear|good (?:morning|afternoon|evening)|greetings|salutations|(?:warm )?(?:regards|wishes|thanks)|best(?: regards| wishes)?|kind regards|yours (?:truly|sincerely))[,.\\s]*\\s*|\\s*(?:thanks|thank you|many thanks|regards|best regards|best|best wishes|yours (?:truly|sincerely)|(?:with )?appreciation)[,.\\s]*\\s*\"\n",
    "    text = re.sub(greetings_pattern, '', text, flags=re.IGNORECASE) # clean greetings and replace\n",
    "    \n",
    "    return text"
   ]
  },
  {
   "cell_type": "code",
   "execution_count": null,
   "metadata": {},
   "outputs": [],
   "source": []
  }
 ],
 "metadata": {
  "kernelspec": {
   "display_name": "Python [conda env:Python3] *",
   "language": "python",
   "name": "conda-env-Python3-py"
  },
  "language_info": {
   "codemirror_mode": {
    "name": "ipython",
    "version": 3
   },
   "file_extension": ".py",
   "mimetype": "text/x-python",
   "name": "python",
   "nbconvert_exporter": "python",
   "pygments_lexer": "ipython3",
   "version": "3.9.15"
  }
 },
 "nbformat": 4,
 "nbformat_minor": 2
}
