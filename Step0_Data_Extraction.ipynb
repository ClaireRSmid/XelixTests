{
 "cells": [
  {
   "cell_type": "markdown",
   "metadata": {},
   "source": [
    "# Script purpose\n",
    "\n",
    "Created on 01/03/2023 by Claire\n",
    "\n",
    "The output created by this script is used in the Step1_Regex_Data_Cleaning script. \n",
    "\n",
    "This script will do the following things:\n",
    "- Issue queries from the sqlite file to filter either on labelled or unlabelled data\n",
    "- Do some light cleaning, e.g. to split up the attachment types\n",
    "- Save the extracted data files as pickle files for further analysis "
   ]
  },
  {
   "cell_type": "code",
   "execution_count": 9,
   "metadata": {},
   "outputs": [
    {
     "name": "stdout",
     "output_type": "stream",
     "text": [
      "The autoreload extension is already loaded. To reload it, use:\n",
      "  %reload_ext autoreload\n"
     ]
    }
   ],
   "source": [
    "%load_ext autoreload\n",
    "%autoreload 2"
   ]
  },
  {
   "cell_type": "code",
   "execution_count": 10,
   "metadata": {},
   "outputs": [],
   "source": [
    "import pandas as pd\n",
    "import pickle"
   ]
  },
  {
   "cell_type": "code",
   "execution_count": 11,
   "metadata": {},
   "outputs": [],
   "source": [
    "# try and import my own functions:\n",
    "import sys\n",
    "import ipynb\n",
    "import re\n",
    "sys.path.append('/project/Xelix_Project/utils')"
   ]
  },
  {
   "cell_type": "code",
   "execution_count": 12,
   "metadata": {},
   "outputs": [],
   "source": [
    "from ipynb.fs.full.Data_Extraction_Functions import return_labelled_data, return_unlabelled_data"
   ]
  },
  {
   "cell_type": "code",
   "execution_count": 13,
   "metadata": {},
   "outputs": [],
   "source": [
    "# f_data = \"/project/Xelix_Project/data/email_extractor.sqlite\"\n",
    "f_data = \"data/email_extractor.sqlite\""
   ]
  },
  {
   "cell_type": "markdown",
   "metadata": {},
   "source": [
    "# Extract labelled emails\n",
    "\n",
    "These are the emails where the category slug needs to be 'not null' "
   ]
  },
  {
   "cell_type": "code",
   "execution_count": 14,
   "metadata": {},
   "outputs": [
    {
     "name": "stdout",
     "output_type": "stream",
     "text": [
      "CPU times: user 3.14 s, sys: 5.28 s, total: 8.41 s\n",
      "Wall time: 2min 29s\n"
     ]
    }
   ],
   "source": [
    "%%time\n",
    "labelled_data = return_labelled_data(f_data)"
   ]
  },
  {
   "cell_type": "code",
   "execution_count": 15,
   "metadata": {},
   "outputs": [
    {
     "name": "stdout",
     "output_type": "stream",
     "text": [
      "14333\n"
     ]
    },
    {
     "data": {
      "text/html": [
       "<div>\n",
       "<style scoped>\n",
       "    .dataframe tbody tr th:only-of-type {\n",
       "        vertical-align: middle;\n",
       "    }\n",
       "\n",
       "    .dataframe tbody tr th {\n",
       "        vertical-align: top;\n",
       "    }\n",
       "\n",
       "    .dataframe thead th {\n",
       "        text-align: right;\n",
       "    }\n",
       "</style>\n",
       "<table border=\"1\" class=\"dataframe\">\n",
       "  <thead>\n",
       "    <tr style=\"text-align: right;\">\n",
       "      <th></th>\n",
       "      <th>id</th>\n",
       "      <th>subject</th>\n",
       "      <th>internal_date</th>\n",
       "      <th>from_address</th>\n",
       "      <th>to</th>\n",
       "      <th>bcc</th>\n",
       "      <th>cc</th>\n",
       "      <th>reply_to</th>\n",
       "      <th>html_body</th>\n",
       "      <th>plain_text_body</th>\n",
       "      <th>attachments</th>\n",
       "      <th>category_id</th>\n",
       "      <th>category_slug</th>\n",
       "    </tr>\n",
       "  </thead>\n",
       "  <tbody>\n",
       "    <tr>\n",
       "      <th>0</th>\n",
       "      <td>167529</td>\n",
       "      <td>BLUESTEM GROUP INV PP2422423 - Order X843348. ...</td>\n",
       "      <td>2021-11-17 16:08:00+00</td>\n",
       "      <td>sales@bluestemgroup.co.uk</td>\n",
       "      <td>{Purchase.Ledger@evo-group.co.uk}</td>\n",
       "      <td>{}</td>\n",
       "      <td>{}</td>\n",
       "      <td>{}</td>\n",
       "      <td>&lt;html&gt;\\n&lt;head&gt;\\n&lt;meta http-equiv=\"Content-Type...</td>\n",
       "      <td>None</td>\n",
       "      <td>19427_2422423_00112742.pdf,19427_2422423_00112...</td>\n",
       "      <td>100</td>\n",
       "      <td>invoices</td>\n",
       "    </tr>\n",
       "    <tr>\n",
       "      <th>1</th>\n",
       "      <td>167544</td>\n",
       "      <td>Overdue Account £59,632.58</td>\n",
       "      <td>2022-07-05 15:37:48+00</td>\n",
       "      <td>sefika@albion.co.uk</td>\n",
       "      <td>{Matt.Hales@evo-group.co.uk}</td>\n",
       "      <td>{}</td>\n",
       "      <td>{Ryan.Leigh@evo-group.co.uk}</td>\n",
       "      <td>{}</td>\n",
       "      <td>&lt;html&gt;\\n&lt;head&gt;\\n&lt;meta http-equiv=\"Content-Type...</td>\n",
       "      <td>None</td>\n",
       "      <td>Followups(6).pdf,Followups(6).pdf,Followups(6)...</td>\n",
       "      <td>1</td>\n",
       "      <td>statement</td>\n",
       "    </tr>\n",
       "    <tr>\n",
       "      <th>2</th>\n",
       "      <td>170741</td>\n",
       "      <td>FW: APRIL ACCOUNT</td>\n",
       "      <td>2021-07-28 10:10:32+00</td>\n",
       "      <td>Lisa.Dyson@evo-group.co.uk</td>\n",
       "      <td>{Purchase.Ledger@evo-group.co.uk}</td>\n",
       "      <td>{}</td>\n",
       "      <td>{}</td>\n",
       "      <td>{}</td>\n",
       "      <td>&lt;html xmlns:v=\"urn:schemas-microsoft-com:vml\" ...</td>\n",
       "      <td>None</td>\n",
       "      <td>CR1018258.pdf,CR1018258.pdf,CR1018259.pdf,CR10...</td>\n",
       "      <td>100</td>\n",
       "      <td>invoices</td>\n",
       "    </tr>\n",
       "    <tr>\n",
       "      <th>3</th>\n",
       "      <td>170766</td>\n",
       "      <td>None</td>\n",
       "      <td>2021-07-28 11:03:11+00</td>\n",
       "      <td>clovell@ups.com</td>\n",
       "      <td>{purchase.ledger@evo-group.co.uk}</td>\n",
       "      <td>{}</td>\n",
       "      <td>{}</td>\n",
       "      <td>{}</td>\n",
       "      <td>&lt;html xmlns:v=\"urn:schemas-microsoft-com:vml\" ...</td>\n",
       "      <td>Attention: This email originated outside of ou...</td>\n",
       "      <td>scr019205.pdf,scr019205.pdf,scr019205.pdf,scr0...</td>\n",
       "      <td>100</td>\n",
       "      <td>invoices</td>\n",
       "    </tr>\n",
       "    <tr>\n",
       "      <th>4</th>\n",
       "      <td>172273</td>\n",
       "      <td>ban 1148 Overdue Account</td>\n",
       "      <td>2021-08-02 09:08:05+00</td>\n",
       "      <td>PennyRichardson@morleys.co.uk</td>\n",
       "      <td>{Purchase.Ledger@evo-group.co.uk}</td>\n",
       "      <td>{}</td>\n",
       "      <td>{}</td>\n",
       "      <td>{}</td>\n",
       "      <td>&lt;html xmlns:v=\"urn:schemas-microsoft-com:vml\" ...</td>\n",
       "      <td>Attention: This email originated outside of ou...</td>\n",
       "      <td>ban-1148.pdf,ban-1148.pdf,image001.png,image00...</td>\n",
       "      <td>101</td>\n",
       "      <td>reminders</td>\n",
       "    </tr>\n",
       "  </tbody>\n",
       "</table>\n",
       "</div>"
      ],
      "text/plain": [
       "       id                                            subject  \\\n",
       "0  167529  BLUESTEM GROUP INV PP2422423 - Order X843348. ...   \n",
       "1  167544                         Overdue Account £59,632.58   \n",
       "2  170741                                  FW: APRIL ACCOUNT   \n",
       "3  170766                                               None   \n",
       "4  172273                           ban 1148 Overdue Account   \n",
       "\n",
       "            internal_date                   from_address  \\\n",
       "0  2021-11-17 16:08:00+00      sales@bluestemgroup.co.uk   \n",
       "1  2022-07-05 15:37:48+00            sefika@albion.co.uk   \n",
       "2  2021-07-28 10:10:32+00     Lisa.Dyson@evo-group.co.uk   \n",
       "3  2021-07-28 11:03:11+00                clovell@ups.com   \n",
       "4  2021-08-02 09:08:05+00  PennyRichardson@morleys.co.uk   \n",
       "\n",
       "                                  to bcc                            cc  \\\n",
       "0  {Purchase.Ledger@evo-group.co.uk}  {}                            {}   \n",
       "1       {Matt.Hales@evo-group.co.uk}  {}  {Ryan.Leigh@evo-group.co.uk}   \n",
       "2  {Purchase.Ledger@evo-group.co.uk}  {}                            {}   \n",
       "3  {purchase.ledger@evo-group.co.uk}  {}                            {}   \n",
       "4  {Purchase.Ledger@evo-group.co.uk}  {}                            {}   \n",
       "\n",
       "  reply_to                                          html_body  \\\n",
       "0       {}  <html>\\n<head>\\n<meta http-equiv=\"Content-Type...   \n",
       "1       {}  <html>\\n<head>\\n<meta http-equiv=\"Content-Type...   \n",
       "2       {}  <html xmlns:v=\"urn:schemas-microsoft-com:vml\" ...   \n",
       "3       {}  <html xmlns:v=\"urn:schemas-microsoft-com:vml\" ...   \n",
       "4       {}  <html xmlns:v=\"urn:schemas-microsoft-com:vml\" ...   \n",
       "\n",
       "                                     plain_text_body  \\\n",
       "0                                               None   \n",
       "1                                               None   \n",
       "2                                               None   \n",
       "3  Attention: This email originated outside of ou...   \n",
       "4  Attention: This email originated outside of ou...   \n",
       "\n",
       "                                         attachments  category_id  \\\n",
       "0  19427_2422423_00112742.pdf,19427_2422423_00112...          100   \n",
       "1  Followups(6).pdf,Followups(6).pdf,Followups(6)...            1   \n",
       "2  CR1018258.pdf,CR1018258.pdf,CR1018259.pdf,CR10...          100   \n",
       "3  scr019205.pdf,scr019205.pdf,scr019205.pdf,scr0...          100   \n",
       "4  ban-1148.pdf,ban-1148.pdf,image001.png,image00...          101   \n",
       "\n",
       "  category_slug  \n",
       "0      invoices  \n",
       "1     statement  \n",
       "2      invoices  \n",
       "3      invoices  \n",
       "4     reminders  "
      ]
     },
     "execution_count": 15,
     "metadata": {},
     "output_type": "execute_result"
    }
   ],
   "source": [
    "print(len(labelled_data))\n",
    "labelled_data.head()"
   ]
  },
  {
   "cell_type": "code",
   "execution_count": 16,
   "metadata": {},
   "outputs": [
    {
     "data": {
      "text/plain": [
       "invoices                           5673\n",
       "invoices-subject-line-pdf          4356\n",
       "statement                          1417\n",
       "demo                                684\n",
       "reminders                           383\n",
       "invoice-no-tags                     345\n",
       "order-tracking                      240\n",
       "no-action                           152\n",
       "payments                            140\n",
       "other-queries                       127\n",
       "reminder-pdf                        120\n",
       "credit-note                         116\n",
       "order-acknowledgement               103\n",
       "invoices-content                     99\n",
       "new-supplier                         90\n",
       "order-dispatch-and-tracking          86\n",
       "invoices-subject-line-pdf-other      72\n",
       "reminder-content                     61\n",
       "bank-detail-change                   25\n",
       "direct-debit-advice-reminder         19\n",
       "backorder                            16\n",
       "shipping-manifest                     4\n",
       "invoices-subject-line-excel           3\n",
       "invoices-subject-line-word            2\n",
       "Name: category_slug, dtype: int64"
      ]
     },
     "execution_count": 16,
     "metadata": {},
     "output_type": "execute_result"
    }
   ],
   "source": [
    "labelled_data['category_slug'].value_counts()"
   ]
  },
  {
   "cell_type": "code",
   "execution_count": 17,
   "metadata": {},
   "outputs": [
    {
     "name": "stdout",
     "output_type": "stream",
     "text": [
      "0\n"
     ]
    }
   ],
   "source": [
    "print(sum(labelled_data.duplicated()))"
   ]
  },
  {
   "cell_type": "markdown",
   "metadata": {},
   "source": [
    "# Extract unlabelled emails\n",
    "\n",
    "Set a limit to extract, because large amount of emails"
   ]
  },
  {
   "cell_type": "code",
   "execution_count": 77,
   "metadata": {},
   "outputs": [
    {
     "name": "stdout",
     "output_type": "stream",
     "text": [
      "CPU times: user 25.1 s, sys: 52.4 s, total: 1min 17s\n",
      "Wall time: 3min 6s\n"
     ]
    }
   ],
   "source": [
    "%%time\n",
    "# limit = 15000    # how many emails to return\n",
    "# start_from = 20000  # which rows to start from, e.g. 0 is from the start, 1000 is to skip the first 1000 rows\n",
    "\n",
    "# limit = 20000    # how many emails to return\n",
    "# start_from = 20000  # which rows to start from, e.g. 0 is from the start, 1000 is to skip the first 1000 rows\n",
    "\n",
    "limit = 50000    # how many emails to return\n",
    "start_from = 250000  # which rows to start from, e.g. 0 is from the start, 1000 is to skip the first 1000 rows\n",
    "\n",
    "unlabelled_data = return_unlabelled_data(f_data, start_from, limit)"
   ]
  },
  {
   "cell_type": "code",
   "execution_count": 78,
   "metadata": {},
   "outputs": [
    {
     "name": "stdout",
     "output_type": "stream",
     "text": [
      "21035\n"
     ]
    },
    {
     "data": {
      "text/html": [
       "<div>\n",
       "<style scoped>\n",
       "    .dataframe tbody tr th:only-of-type {\n",
       "        vertical-align: middle;\n",
       "    }\n",
       "\n",
       "    .dataframe tbody tr th {\n",
       "        vertical-align: top;\n",
       "    }\n",
       "\n",
       "    .dataframe thead th {\n",
       "        text-align: right;\n",
       "    }\n",
       "</style>\n",
       "<table border=\"1\" class=\"dataframe\">\n",
       "  <thead>\n",
       "    <tr style=\"text-align: right;\">\n",
       "      <th></th>\n",
       "      <th>id</th>\n",
       "      <th>subject</th>\n",
       "      <th>internal_date</th>\n",
       "      <th>from_address</th>\n",
       "      <th>to</th>\n",
       "      <th>bcc</th>\n",
       "      <th>cc</th>\n",
       "      <th>reply_to</th>\n",
       "      <th>html_body</th>\n",
       "      <th>plain_text_body</th>\n",
       "      <th>attachments</th>\n",
       "      <th>category_id</th>\n",
       "      <th>category_slug</th>\n",
       "    </tr>\n",
       "  </thead>\n",
       "  <tbody>\n",
       "    <tr>\n",
       "      <th>0</th>\n",
       "      <td>441636</td>\n",
       "      <td>[Postmaster] Attachment Alert Notification</td>\n",
       "      <td>2021-12-03 13:03:19+00</td>\n",
       "      <td>postmaster@dorchestercollection.com</td>\n",
       "      <td>{Invoicepayments.UK@dorchestercollection.com}</td>\n",
       "      <td>{}</td>\n",
       "      <td>{}</td>\n",
       "      <td>{}</td>\n",
       "      <td>&lt;html&gt;&lt;head&gt;\\n&lt;meta http-equiv=\"Content-Type\" ...</td>\n",
       "      <td>None</td>\n",
       "      <td>None</td>\n",
       "      <td>None</td>\n",
       "      <td>None</td>\n",
       "    </tr>\n",
       "    <tr>\n",
       "      <th>1</th>\n",
       "      <td>441637</td>\n",
       "      <td>Scanned document from TDLPurchasingPRN2</td>\n",
       "      <td>2021-12-03 12:56:57+00</td>\n",
       "      <td>dominic.lowry@dorchestercollection.com</td>\n",
       "      <td>{DocuWareDeliveryNotes.UK@dorchestercollection...</td>\n",
       "      <td>{}</td>\n",
       "      <td>{}</td>\n",
       "      <td>{}</td>\n",
       "      <td>None</td>\n",
       "      <td>Scanned document from TDLPurchasingPRN2\\n-----...</td>\n",
       "      <td>TDLPurchasingPRN220211203130159.pdf</td>\n",
       "      <td>None</td>\n",
       "      <td>None</td>\n",
       "    </tr>\n",
       "    <tr>\n",
       "      <th>2</th>\n",
       "      <td>441638</td>\n",
       "      <td>R &amp; J Yorkshire's Finest Farmers and Butchers</td>\n",
       "      <td>2021-12-03 12:44:01+00</td>\n",
       "      <td>kate@randjyorkshiresfinest.co.uk</td>\n",
       "      <td>{APInvoicequeries.UK@dorchestercollection.com}</td>\n",
       "      <td>{}</td>\n",
       "      <td>{}</td>\n",
       "      <td>{}</td>\n",
       "      <td>&lt;html&gt;&lt;head&gt;\\n&lt;meta http-equiv=\"Content-Type\" ...</td>\n",
       "      <td>None</td>\n",
       "      <td>501556.pdf,image001.png,image002.png,image003....</td>\n",
       "      <td>None</td>\n",
       "      <td>None</td>\n",
       "    </tr>\n",
       "    <tr>\n",
       "      <th>3</th>\n",
       "      <td>441639</td>\n",
       "      <td>RE: Overdue account</td>\n",
       "      <td>2021-12-03 12:41:50+00</td>\n",
       "      <td>David.Oakley@theeastindiacompany.com</td>\n",
       "      <td>{APInvoicequeries.UK@dorchestercollection.com,...</td>\n",
       "      <td>{}</td>\n",
       "      <td>{Tejas.Gandhi@theeastindiacompany.com}</td>\n",
       "      <td>{}</td>\n",
       "      <td>&lt;html&gt;&lt;head&gt;\\n&lt;meta http-equiv=\"Content-Type\" ...</td>\n",
       "      <td>None</td>\n",
       "      <td>image001.jpg,image320501.jpg</td>\n",
       "      <td>None</td>\n",
       "      <td>None</td>\n",
       "    </tr>\n",
       "    <tr>\n",
       "      <th>4</th>\n",
       "      <td>441640</td>\n",
       "      <td>RE: Overdue account</td>\n",
       "      <td>2021-12-03 12:41:50+00</td>\n",
       "      <td>David.Oakley@theeastindiacompany.com</td>\n",
       "      <td>{APInvoicequeries.UK@dorchestercollection.com,...</td>\n",
       "      <td>{}</td>\n",
       "      <td>{Tejas.Gandhi@theeastindiacompany.com}</td>\n",
       "      <td>{}</td>\n",
       "      <td>&lt;html&gt;&lt;head&gt;\\n&lt;meta http-equiv=\"Content-Type\" ...</td>\n",
       "      <td>None</td>\n",
       "      <td>image001.jpg,image320501.jpg</td>\n",
       "      <td>None</td>\n",
       "      <td>None</td>\n",
       "    </tr>\n",
       "  </tbody>\n",
       "</table>\n",
       "</div>"
      ],
      "text/plain": [
       "       id                                        subject  \\\n",
       "0  441636     [Postmaster] Attachment Alert Notification   \n",
       "1  441637        Scanned document from TDLPurchasingPRN2   \n",
       "2  441638  R & J Yorkshire's Finest Farmers and Butchers   \n",
       "3  441639                            RE: Overdue account   \n",
       "4  441640                            RE: Overdue account   \n",
       "\n",
       "            internal_date                            from_address  \\\n",
       "0  2021-12-03 13:03:19+00     postmaster@dorchestercollection.com   \n",
       "1  2021-12-03 12:56:57+00  dominic.lowry@dorchestercollection.com   \n",
       "2  2021-12-03 12:44:01+00        kate@randjyorkshiresfinest.co.uk   \n",
       "3  2021-12-03 12:41:50+00    David.Oakley@theeastindiacompany.com   \n",
       "4  2021-12-03 12:41:50+00    David.Oakley@theeastindiacompany.com   \n",
       "\n",
       "                                                  to bcc  \\\n",
       "0      {Invoicepayments.UK@dorchestercollection.com}  {}   \n",
       "1  {DocuWareDeliveryNotes.UK@dorchestercollection...  {}   \n",
       "2     {APInvoicequeries.UK@dorchestercollection.com}  {}   \n",
       "3  {APInvoicequeries.UK@dorchestercollection.com,...  {}   \n",
       "4  {APInvoicequeries.UK@dorchestercollection.com,...  {}   \n",
       "\n",
       "                                       cc reply_to  \\\n",
       "0                                      {}       {}   \n",
       "1                                      {}       {}   \n",
       "2                                      {}       {}   \n",
       "3  {Tejas.Gandhi@theeastindiacompany.com}       {}   \n",
       "4  {Tejas.Gandhi@theeastindiacompany.com}       {}   \n",
       "\n",
       "                                           html_body  \\\n",
       "0  <html><head>\\n<meta http-equiv=\"Content-Type\" ...   \n",
       "1                                               None   \n",
       "2  <html><head>\\n<meta http-equiv=\"Content-Type\" ...   \n",
       "3  <html><head>\\n<meta http-equiv=\"Content-Type\" ...   \n",
       "4  <html><head>\\n<meta http-equiv=\"Content-Type\" ...   \n",
       "\n",
       "                                     plain_text_body  \\\n",
       "0                                               None   \n",
       "1  Scanned document from TDLPurchasingPRN2\\n-----...   \n",
       "2                                               None   \n",
       "3                                               None   \n",
       "4                                               None   \n",
       "\n",
       "                                         attachments category_id category_slug  \n",
       "0                                               None        None          None  \n",
       "1                TDLPurchasingPRN220211203130159.pdf        None          None  \n",
       "2  501556.pdf,image001.png,image002.png,image003....        None          None  \n",
       "3                       image001.jpg,image320501.jpg        None          None  \n",
       "4                       image001.jpg,image320501.jpg        None          None  "
      ]
     },
     "execution_count": 78,
     "metadata": {},
     "output_type": "execute_result"
    }
   ],
   "source": [
    "print(len(unlabelled_data))\n",
    "unlabelled_data.head()"
   ]
  },
  {
   "cell_type": "code",
   "execution_count": 79,
   "metadata": {},
   "outputs": [
    {
     "data": {
      "text/plain": [
       "Series([], Name: category_slug, dtype: int64)"
      ]
     },
     "execution_count": 79,
     "metadata": {},
     "output_type": "execute_result"
    }
   ],
   "source": [
    "unlabelled_data['category_slug'].value_counts()"
   ]
  },
  {
   "cell_type": "code",
   "execution_count": 80,
   "metadata": {},
   "outputs": [
    {
     "name": "stdout",
     "output_type": "stream",
     "text": [
      "0\n"
     ]
    }
   ],
   "source": [
    "print(sum(unlabelled_data.duplicated()))"
   ]
  },
  {
   "cell_type": "markdown",
   "metadata": {},
   "source": [
    "# Initial cleaning of data\n",
    "\n",
    "This will:\n",
    "- remove duplicate entries from the attachments column\n",
    "- remove images and hyperlinks from the attachment types\n",
    "- add new feature whether there is an attachment with the email or not after cleaning"
   ]
  },
  {
   "cell_type": "code",
   "execution_count": 18,
   "metadata": {},
   "outputs": [],
   "source": [
    "from ipynb.fs.full.Regex_html_Functions import remove_duplicates, clean_attachment_types"
   ]
  },
  {
   "cell_type": "code",
   "execution_count": null,
   "metadata": {},
   "outputs": [],
   "source": [
    "# for the labelled data\n",
    "labelled_data['attachments'] = labelled_data['attachments'].apply(remove_duplicates)\n",
    "labelled_data['attachments'] = labelled_data['attachments'].apply(clean_attachment_types)\n",
    "labelled_data['has_attachment'] = [True if val is not None else False for val in labelled_data['attachments']]"
   ]
  },
  {
   "cell_type": "code",
   "execution_count": 81,
   "metadata": {},
   "outputs": [],
   "source": [
    "# for the unlabelled data\n",
    "unlabelled_data['attachments'] = unlabelled_data['attachments'].apply(remove_duplicates)\n",
    "unlabelled_data['attachments'] = unlabelled_data['attachments'].apply(clean_attachment_types)\n",
    "unlabelled_data['has_attachment'] = [True if val is not None else False for val in unlabelled_data['attachments']]"
   ]
  },
  {
   "cell_type": "markdown",
   "metadata": {},
   "source": [
    "# HTML parsing\n",
    "\n",
    "This will turn the email text data into parsed plain text data from html if needed"
   ]
  },
  {
   "cell_type": "code",
   "execution_count": 26,
   "metadata": {},
   "outputs": [],
   "source": [
    "from ipynb.fs.full.Regex_html_Functions import text_from_html"
   ]
  },
  {
   "cell_type": "code",
   "execution_count": 27,
   "metadata": {},
   "outputs": [
    {
     "name": "stdout",
     "output_type": "stream",
     "text": [
      "CPU times: user 1min 5s, sys: 0 ns, total: 1min 5s\n",
      "Wall time: 1min 5s\n"
     ]
    }
   ],
   "source": [
    "%%time\n",
    "labelled_data[\"html_body_as_text\"] = labelled_data[\"html_body\"].map(text_from_html)\n",
    "labelled_data[\"body\"] = labelled_data[\"plain_text_body\"]\n",
    "labelled_data.loc[labelled_data[\"body\"].isnull(), \"body\"] = labelled_data.loc[labelled_data[\"body\"].isnull(), \"html_body_as_text\"]"
   ]
  },
  {
   "cell_type": "code",
   "execution_count": 82,
   "metadata": {},
   "outputs": [
    {
     "name": "stdout",
     "output_type": "stream",
     "text": [
      "CPU times: user 2min 24s, sys: 135 ms, total: 2min 25s\n",
      "Wall time: 2min 25s\n"
     ]
    }
   ],
   "source": [
    "%%time\n",
    "unlabelled_data[\"html_body_as_text\"] = unlabelled_data[\"html_body\"].map(text_from_html)\n",
    "unlabelled_data[\"body\"] = unlabelled_data[\"plain_text_body\"]\n",
    "unlabelled_data.loc[unlabelled_data[\"body\"].isnull(), \"body\"] = unlabelled_data.loc[unlabelled_data[\"body\"].isnull(), \"html_body_as_text\"]"
   ]
  },
  {
   "cell_type": "markdown",
   "metadata": {},
   "source": [
    "# Export to Pickle"
   ]
  },
  {
   "cell_type": "code",
   "execution_count": null,
   "metadata": {},
   "outputs": [],
   "source": [
    "# if only want bank-change-detail emails; \n",
    "# bankchange_emails = labelled_data[labelled_data.category_slug.str.contains(\"bank-detail-change\") == True]\n",
    "# bankchange_emails.to_pickle(\"data/Step0_Data/bank_change_emails_and_threads.pkl\")\n",
    "# print(len(bankchange_emails))"
   ]
  },
  {
   "cell_type": "code",
   "execution_count": 28,
   "metadata": {},
   "outputs": [],
   "source": [
    "# labelled_data.to_pickle(\"data/Step0_Data/labelled_emails_and_threads.pkl\")"
   ]
  },
  {
   "cell_type": "code",
   "execution_count": 83,
   "metadata": {},
   "outputs": [],
   "source": [
    "unlabelled_data.to_pickle(\"data/Step0_Data/unlabelled_emails_and_threads_run6.pkl\")"
   ]
  },
  {
   "cell_type": "code",
   "execution_count": 84,
   "metadata": {},
   "outputs": [],
   "source": [
    "# del labelled_data, unlabelled_data"
   ]
  },
  {
   "cell_type": "code",
   "execution_count": 85,
   "metadata": {},
   "outputs": [],
   "source": [
    "del unlabelled_data"
   ]
  },
  {
   "cell_type": "code",
   "execution_count": null,
   "metadata": {},
   "outputs": [],
   "source": []
  }
 ],
 "metadata": {
  "kernelspec": {
   "display_name": "Python [conda env:Python3] *",
   "language": "python",
   "name": "conda-env-Python3-py"
  },
  "language_info": {
   "codemirror_mode": {
    "name": "ipython",
    "version": 3
   },
   "file_extension": ".py",
   "mimetype": "text/x-python",
   "name": "python",
   "nbconvert_exporter": "python",
   "pygments_lexer": "ipython3",
   "version": "3.9.15"
  }
 },
 "nbformat": 4,
 "nbformat_minor": 2
}
