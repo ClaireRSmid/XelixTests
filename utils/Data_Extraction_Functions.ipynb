{
 "cells": [
  {
   "cell_type": "code",
   "execution_count": 1,
   "metadata": {},
   "outputs": [],
   "source": [
    "import sqlite3\n",
    "import pandas as pd\n",
    "\n",
    "def return_labelled_data(data):\n",
    "    '''Function to extract only the labelled emails from the sqlite database'''\n",
    "    \n",
    "    con = sqlite3.connect(data)\n",
    "    \n",
    "    q = '''\n",
    "    SELECT e.id, e.subject, e.internal_date, e.from_address, e.'to', e.bcc, e.cc, e.reply_to, e.html_body, e.plain_text_body,\n",
    "           GROUP_CONCAT(CASE WHEN a.original_filename IS NOT NULL THEN a.original_filename ELSE NULL END) AS attachments,\n",
    "           c.id AS category_id, c.slug AS category_slug\n",
    "    FROM emails_email e\n",
    "    JOIN emails_emailattachment a ON e.id = a.email_id\n",
    "    JOIN emails_emailcategory ec ON e.id = ec.email_id\n",
    "    JOIN emails_category c ON c.id = ec.category_id\n",
    "    WHERE ec.category_id IS NOT NULL\n",
    "    GROUP BY e.id, e.subject, e.internal_date, e.from_address, e.'to', e.bcc, e.cc, e.reply_to, c.id, c.slug\n",
    "    '''\n",
    "\n",
    "    # Execute the query and store the results in a DataFrame\n",
    "    df = pd.read_sql_query(q,con)\n",
    "\n",
    "    return df"
   ]
  },
  {
   "cell_type": "code",
   "execution_count": 2,
   "metadata": {
    "scrolled": true
   },
   "outputs": [],
   "source": [
    "import sqlite3\n",
    "import pandas as pd\n",
    "\n",
    "def return_unlabelled_data(data, start_value, limit_value):\n",
    "    '''Function to extract only emails that are unlabelled from the sqlite database'''\n",
    "    \n",
    "    con = sqlite3.connect(data)\n",
    "    \n",
    "    q = f'''\n",
    "    SELECT e.id, e.subject, e.internal_date, e.from_address, e.'to', e.bcc, e.cc, e.reply_to, e.html_body, e.plain_text_body,\n",
    "           GROUP_CONCAT(CASE WHEN a.original_filename IS NOT NULL THEN a.original_filename ELSE NULL END) AS attachments,\n",
    "           c.id AS category_id, c.slug AS category_slug\n",
    "    FROM emails_email e\n",
    "    LEFT JOIN emails_emailattachment a ON e.id = a.email_id\n",
    "    LEFT JOIN emails_emailcategory ec ON e.id = ec.email_id\n",
    "    LEFT JOIN emails_category c ON c.id = ec.category_id\n",
    "    GROUP BY e.id, e.subject, e.internal_date, e.from_address, e.'to', e.bcc, e.cc, e.reply_to, c.id, c.slug\n",
    "    LIMIT {limit_value} OFFSET {start_value}\n",
    "    '''\n",
    "\n",
    "    # Execute the query and store the results in a DataFrame\n",
    "    df = pd.read_sql_query(q,con)\n",
    "\n",
    "    return df"
   ]
  },
  {
   "cell_type": "code",
   "execution_count": null,
   "metadata": {},
   "outputs": [],
   "source": []
  }
 ],
 "metadata": {
  "kernelspec": {
   "display_name": "Python [conda env:Python3] *",
   "language": "python",
   "name": "conda-env-Python3-py"
  },
  "language_info": {
   "codemirror_mode": {
    "name": "ipython",
    "version": 3
   },
   "file_extension": ".py",
   "mimetype": "text/x-python",
   "name": "python",
   "nbconvert_exporter": "python",
   "pygments_lexer": "ipython3",
   "version": "3.9.15"
  }
 },
 "nbformat": 4,
 "nbformat_minor": 2
}
